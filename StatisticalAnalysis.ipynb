{
 "cells": [
  {
   "cell_type": "code",
   "execution_count": 597,
   "id": "adfa47b9",
   "metadata": {},
   "outputs": [
    {
     "name": "stdout",
     "output_type": "stream",
     "text": [
      "Requirement already satisfied: pandas in c:\\users\\acer\\appdata\\local\\packages\\pythonsoftwarefoundation.python.3.10_qbz5n2kfra8p0\\localcache\\local-packages\\python310\\site-packages (2.0.0)\n",
      "Requirement already satisfied: python-dateutil>=2.8.2 in c:\\users\\acer\\appdata\\local\\packages\\pythonsoftwarefoundation.python.3.10_qbz5n2kfra8p0\\localcache\\local-packages\\python310\\site-packages (from pandas) (2.8.2)\n",
      "Requirement already satisfied: pytz>=2020.1 in c:\\users\\acer\\appdata\\local\\packages\\pythonsoftwarefoundation.python.3.10_qbz5n2kfra8p0\\localcache\\local-packages\\python310\\site-packages (from pandas) (2023.3)\n",
      "Requirement already satisfied: tzdata>=2022.1 in c:\\users\\acer\\appdata\\local\\packages\\pythonsoftwarefoundation.python.3.10_qbz5n2kfra8p0\\localcache\\local-packages\\python310\\site-packages (from pandas) (2023.3)\n",
      "Requirement already satisfied: numpy>=1.21.0 in c:\\users\\acer\\appdata\\local\\packages\\pythonsoftwarefoundation.python.3.10_qbz5n2kfra8p0\\localcache\\local-packages\\python310\\site-packages (from pandas) (1.24.3)\n",
      "Requirement already satisfied: six>=1.5 in c:\\users\\acer\\appdata\\local\\packages\\pythonsoftwarefoundation.python.3.10_qbz5n2kfra8p0\\localcache\\local-packages\\python310\\site-packages (from python-dateutil>=2.8.2->pandas) (1.16.0)\n"
     ]
    },
    {
     "name": "stderr",
     "output_type": "stream",
     "text": [
      "\n",
      "[notice] A new release of pip is available: 23.1.2 -> 23.2\n",
      "[notice] To update, run: C:\\Users\\Acer\\AppData\\Local\\Microsoft\\WindowsApps\\PythonSoftwareFoundation.Python.3.10_qbz5n2kfra8p0\\python.exe -m pip install --upgrade pip\n"
     ]
    },
    {
     "name": "stdout",
     "output_type": "stream",
     "text": [
      "Requirement already satisfied: numpy in c:\\users\\acer\\appdata\\local\\packages\\pythonsoftwarefoundation.python.3.10_qbz5n2kfra8p0\\localcache\\local-packages\\python310\\site-packages (1.24.3)\n"
     ]
    },
    {
     "name": "stderr",
     "output_type": "stream",
     "text": [
      "\n",
      "[notice] A new release of pip is available: 23.1.2 -> 23.2\n",
      "[notice] To update, run: C:\\Users\\Acer\\AppData\\Local\\Microsoft\\WindowsApps\\PythonSoftwareFoundation.Python.3.10_qbz5n2kfra8p0\\python.exe -m pip install --upgrade pip\n"
     ]
    },
    {
     "name": "stdout",
     "output_type": "stream",
     "text": [
      "Requirement already satisfied: matplotlib in c:\\users\\acer\\appdata\\local\\packages\\pythonsoftwarefoundation.python.3.10_qbz5n2kfra8p0\\localcache\\local-packages\\python310\\site-packages (3.6.3)\n",
      "Requirement already satisfied: contourpy>=1.0.1 in c:\\users\\acer\\appdata\\local\\packages\\pythonsoftwarefoundation.python.3.10_qbz5n2kfra8p0\\localcache\\local-packages\\python310\\site-packages (from matplotlib) (1.0.7)\n",
      "Requirement already satisfied: cycler>=0.10 in c:\\users\\acer\\appdata\\local\\packages\\pythonsoftwarefoundation.python.3.10_qbz5n2kfra8p0\\localcache\\local-packages\\python310\\site-packages (from matplotlib) (0.11.0)\n",
      "Requirement already satisfied: fonttools>=4.22.0 in c:\\users\\acer\\appdata\\local\\packages\\pythonsoftwarefoundation.python.3.10_qbz5n2kfra8p0\\localcache\\local-packages\\python310\\site-packages (from matplotlib) (4.38.0)\n",
      "Requirement already satisfied: kiwisolver>=1.0.1 in c:\\users\\acer\\appdata\\local\\packages\\pythonsoftwarefoundation.python.3.10_qbz5n2kfra8p0\\localcache\\local-packages\\python310\\site-packages (from matplotlib) (1.4.4)\n",
      "Requirement already satisfied: numpy>=1.19 in c:\\users\\acer\\appdata\\local\\packages\\pythonsoftwarefoundation.python.3.10_qbz5n2kfra8p0\\localcache\\local-packages\\python310\\site-packages (from matplotlib) (1.24.3)\n",
      "Requirement already satisfied: packaging>=20.0 in c:\\users\\acer\\appdata\\local\\packages\\pythonsoftwarefoundation.python.3.10_qbz5n2kfra8p0\\localcache\\local-packages\\python310\\site-packages (from matplotlib) (23.1)\n",
      "Requirement already satisfied: pillow>=6.2.0 in c:\\users\\acer\\appdata\\local\\packages\\pythonsoftwarefoundation.python.3.10_qbz5n2kfra8p0\\localcache\\local-packages\\python310\\site-packages (from matplotlib) (9.5.0)\n",
      "Requirement already satisfied: pyparsing>=2.2.1 in c:\\users\\acer\\appdata\\local\\packages\\pythonsoftwarefoundation.python.3.10_qbz5n2kfra8p0\\localcache\\local-packages\\python310\\site-packages (from matplotlib) (3.0.9)\n",
      "Requirement already satisfied: python-dateutil>=2.7 in c:\\users\\acer\\appdata\\local\\packages\\pythonsoftwarefoundation.python.3.10_qbz5n2kfra8p0\\localcache\\local-packages\\python310\\site-packages (from matplotlib) (2.8.2)\n",
      "Requirement already satisfied: six>=1.5 in c:\\users\\acer\\appdata\\local\\packages\\pythonsoftwarefoundation.python.3.10_qbz5n2kfra8p0\\localcache\\local-packages\\python310\\site-packages (from python-dateutil>=2.7->matplotlib) (1.16.0)\n"
     ]
    },
    {
     "name": "stderr",
     "output_type": "stream",
     "text": [
      "\n",
      "[notice] A new release of pip is available: 23.1.2 -> 23.2\n",
      "[notice] To update, run: C:\\Users\\Acer\\AppData\\Local\\Microsoft\\WindowsApps\\PythonSoftwareFoundation.Python.3.10_qbz5n2kfra8p0\\python.exe -m pip install --upgrade pip\n"
     ]
    },
    {
     "name": "stdout",
     "output_type": "stream",
     "text": [
      "Requirement already satisfied: seaborn in c:\\users\\acer\\appdata\\local\\packages\\pythonsoftwarefoundation.python.3.10_qbz5n2kfra8p0\\localcache\\local-packages\\python310\\site-packages (0.12.2)\n",
      "Requirement already satisfied: numpy!=1.24.0,>=1.17 in c:\\users\\acer\\appdata\\local\\packages\\pythonsoftwarefoundation.python.3.10_qbz5n2kfra8p0\\localcache\\local-packages\\python310\\site-packages (from seaborn) (1.24.3)\n",
      "Requirement already satisfied: pandas>=0.25 in c:\\users\\acer\\appdata\\local\\packages\\pythonsoftwarefoundation.python.3.10_qbz5n2kfra8p0\\localcache\\local-packages\\python310\\site-packages (from seaborn) (2.0.0)\n",
      "Requirement already satisfied: matplotlib!=3.6.1,>=3.1 in c:\\users\\acer\\appdata\\local\\packages\\pythonsoftwarefoundation.python.3.10_qbz5n2kfra8p0\\localcache\\local-packages\\python310\\site-packages (from seaborn) (3.6.3)\n",
      "Requirement already satisfied: contourpy>=1.0.1 in c:\\users\\acer\\appdata\\local\\packages\\pythonsoftwarefoundation.python.3.10_qbz5n2kfra8p0\\localcache\\local-packages\\python310\\site-packages (from matplotlib!=3.6.1,>=3.1->seaborn) (1.0.7)\n",
      "Requirement already satisfied: cycler>=0.10 in c:\\users\\acer\\appdata\\local\\packages\\pythonsoftwarefoundation.python.3.10_qbz5n2kfra8p0\\localcache\\local-packages\\python310\\site-packages (from matplotlib!=3.6.1,>=3.1->seaborn) (0.11.0)\n",
      "Requirement already satisfied: fonttools>=4.22.0 in c:\\users\\acer\\appdata\\local\\packages\\pythonsoftwarefoundation.python.3.10_qbz5n2kfra8p0\\localcache\\local-packages\\python310\\site-packages (from matplotlib!=3.6.1,>=3.1->seaborn) (4.38.0)\n",
      "Requirement already satisfied: kiwisolver>=1.0.1 in c:\\users\\acer\\appdata\\local\\packages\\pythonsoftwarefoundation.python.3.10_qbz5n2kfra8p0\\localcache\\local-packages\\python310\\site-packages (from matplotlib!=3.6.1,>=3.1->seaborn) (1.4.4)\n",
      "Requirement already satisfied: packaging>=20.0 in c:\\users\\acer\\appdata\\local\\packages\\pythonsoftwarefoundation.python.3.10_qbz5n2kfra8p0\\localcache\\local-packages\\python310\\site-packages (from matplotlib!=3.6.1,>=3.1->seaborn) (23.1)\n",
      "Requirement already satisfied: pillow>=6.2.0 in c:\\users\\acer\\appdata\\local\\packages\\pythonsoftwarefoundation.python.3.10_qbz5n2kfra8p0\\localcache\\local-packages\\python310\\site-packages (from matplotlib!=3.6.1,>=3.1->seaborn) (9.5.0)\n",
      "Requirement already satisfied: pyparsing>=2.2.1 in c:\\users\\acer\\appdata\\local\\packages\\pythonsoftwarefoundation.python.3.10_qbz5n2kfra8p0\\localcache\\local-packages\\python310\\site-packages (from matplotlib!=3.6.1,>=3.1->seaborn) (3.0.9)\n",
      "Requirement already satisfied: python-dateutil>=2.7 in c:\\users\\acer\\appdata\\local\\packages\\pythonsoftwarefoundation.python.3.10_qbz5n2kfra8p0\\localcache\\local-packages\\python310\\site-packages (from matplotlib!=3.6.1,>=3.1->seaborn) (2.8.2)\n",
      "Requirement already satisfied: pytz>=2020.1 in c:\\users\\acer\\appdata\\local\\packages\\pythonsoftwarefoundation.python.3.10_qbz5n2kfra8p0\\localcache\\local-packages\\python310\\site-packages (from pandas>=0.25->seaborn) (2023.3)\n",
      "Requirement already satisfied: tzdata>=2022.1 in c:\\users\\acer\\appdata\\local\\packages\\pythonsoftwarefoundation.python.3.10_qbz5n2kfra8p0\\localcache\\local-packages\\python310\\site-packages (from pandas>=0.25->seaborn) (2023.3)\n",
      "Requirement already satisfied: six>=1.5 in c:\\users\\acer\\appdata\\local\\packages\\pythonsoftwarefoundation.python.3.10_qbz5n2kfra8p0\\localcache\\local-packages\\python310\\site-packages (from python-dateutil>=2.7->matplotlib!=3.6.1,>=3.1->seaborn) (1.16.0)\n"
     ]
    },
    {
     "name": "stderr",
     "output_type": "stream",
     "text": [
      "\n",
      "[notice] A new release of pip is available: 23.1.2 -> 23.2\n",
      "[notice] To update, run: C:\\Users\\Acer\\AppData\\Local\\Microsoft\\WindowsApps\\PythonSoftwareFoundation.Python.3.10_qbz5n2kfra8p0\\python.exe -m pip install --upgrade pip\n"
     ]
    },
    {
     "name": "stdout",
     "output_type": "stream",
     "text": [
      "Requirement already satisfied: sklearn in c:\\users\\acer\\appdata\\local\\packages\\pythonsoftwarefoundation.python.3.10_qbz5n2kfra8p0\\localcache\\local-packages\\python310\\site-packages (0.0.post5)\n"
     ]
    },
    {
     "name": "stderr",
     "output_type": "stream",
     "text": [
      "\n",
      "[notice] A new release of pip is available: 23.1.2 -> 23.2\n",
      "[notice] To update, run: C:\\Users\\Acer\\AppData\\Local\\Microsoft\\WindowsApps\\PythonSoftwareFoundation.Python.3.10_qbz5n2kfra8p0\\python.exe -m pip install --upgrade pip\n"
     ]
    }
   ],
   "source": [
    "# Installing the necessary libraries\n",
    "!pip install pandas\n",
    "!pip install numpy\n",
    "!pip install matplotlib\n",
    "!pip install seaborn\n",
    "!pip install sklearn"
   ]
  },
  {
   "cell_type": "code",
   "execution_count": 598,
   "id": "9933f711",
   "metadata": {},
   "outputs": [],
   "source": [
    "# Importing the libraries.\n",
    "import pandas as pd\n",
    "import numpy as np\n",
    "import matplotlib.pyplot as plt\n",
    "import seaborn as sns\n",
    "from sklearn.preprocessing import LabelEncoder"
   ]
  },
  {
   "cell_type": "code",
   "execution_count": 599,
   "id": "f21396aa",
   "metadata": {},
   "outputs": [
    {
     "data": {
      "text/plain": [
       "(395, 33)"
      ]
     },
     "execution_count": 599,
     "metadata": {},
     "output_type": "execute_result"
    }
   ],
   "source": [
    "# Reading the math performance file and storing the data.\n",
    "df_mat = pd.read_csv('student-mat.csv')\n",
    "df_mat.shape"
   ]
  },
  {
   "cell_type": "code",
   "execution_count": 600,
   "id": "1222b0ea",
   "metadata": {},
   "outputs": [
    {
     "data": {
      "text/plain": [
       "(649, 33)"
      ]
     },
     "execution_count": 600,
     "metadata": {},
     "output_type": "execute_result"
    }
   ],
   "source": [
    "# Reading the portugese performance file and storing the data.\n",
    "df_por = pd.read_csv('student-por.csv')\n",
    "df_por.shape"
   ]
  },
  {
   "cell_type": "code",
   "execution_count": 601,
   "id": "a33ad18f",
   "metadata": {},
   "outputs": [
    {
     "data": {
      "text/plain": [
       "(1044, 33)"
      ]
     },
     "execution_count": 601,
     "metadata": {},
     "output_type": "execute_result"
    }
   ],
   "source": [
    "# Concatenating both data and storing in the df.\n",
    "df = pd.concat([df_mat, df_por], ignore_index = True)\n",
    "df.shape"
   ]
  },
  {
   "cell_type": "code",
   "execution_count": 602,
   "id": "86270945",
   "metadata": {},
   "outputs": [
    {
     "data": {
      "text/html": [
       "<div>\n",
       "<style scoped>\n",
       "    .dataframe tbody tr th:only-of-type {\n",
       "        vertical-align: middle;\n",
       "    }\n",
       "\n",
       "    .dataframe tbody tr th {\n",
       "        vertical-align: top;\n",
       "    }\n",
       "\n",
       "    .dataframe thead th {\n",
       "        text-align: right;\n",
       "    }\n",
       "</style>\n",
       "<table border=\"1\" class=\"dataframe\">\n",
       "  <thead>\n",
       "    <tr style=\"text-align: right;\">\n",
       "      <th></th>\n",
       "      <th>school</th>\n",
       "      <th>sex</th>\n",
       "      <th>age</th>\n",
       "      <th>address</th>\n",
       "      <th>famsize</th>\n",
       "      <th>Pstatus</th>\n",
       "      <th>Medu</th>\n",
       "      <th>Fedu</th>\n",
       "      <th>Mjob</th>\n",
       "      <th>Fjob</th>\n",
       "      <th>...</th>\n",
       "      <th>famrel</th>\n",
       "      <th>freetime</th>\n",
       "      <th>goout</th>\n",
       "      <th>Dalc</th>\n",
       "      <th>Walc</th>\n",
       "      <th>health</th>\n",
       "      <th>absences</th>\n",
       "      <th>G1</th>\n",
       "      <th>G2</th>\n",
       "      <th>G3</th>\n",
       "    </tr>\n",
       "  </thead>\n",
       "  <tbody>\n",
       "    <tr>\n",
       "      <th>0</th>\n",
       "      <td>GP</td>\n",
       "      <td>F</td>\n",
       "      <td>18</td>\n",
       "      <td>U</td>\n",
       "      <td>GT3</td>\n",
       "      <td>A</td>\n",
       "      <td>4</td>\n",
       "      <td>4</td>\n",
       "      <td>at_home</td>\n",
       "      <td>teacher</td>\n",
       "      <td>...</td>\n",
       "      <td>4</td>\n",
       "      <td>3</td>\n",
       "      <td>4</td>\n",
       "      <td>1</td>\n",
       "      <td>1</td>\n",
       "      <td>3</td>\n",
       "      <td>6</td>\n",
       "      <td>5</td>\n",
       "      <td>6</td>\n",
       "      <td>6</td>\n",
       "    </tr>\n",
       "    <tr>\n",
       "      <th>1</th>\n",
       "      <td>GP</td>\n",
       "      <td>F</td>\n",
       "      <td>17</td>\n",
       "      <td>U</td>\n",
       "      <td>GT3</td>\n",
       "      <td>T</td>\n",
       "      <td>1</td>\n",
       "      <td>1</td>\n",
       "      <td>at_home</td>\n",
       "      <td>other</td>\n",
       "      <td>...</td>\n",
       "      <td>5</td>\n",
       "      <td>3</td>\n",
       "      <td>3</td>\n",
       "      <td>1</td>\n",
       "      <td>1</td>\n",
       "      <td>3</td>\n",
       "      <td>4</td>\n",
       "      <td>5</td>\n",
       "      <td>5</td>\n",
       "      <td>6</td>\n",
       "    </tr>\n",
       "    <tr>\n",
       "      <th>2</th>\n",
       "      <td>GP</td>\n",
       "      <td>F</td>\n",
       "      <td>15</td>\n",
       "      <td>U</td>\n",
       "      <td>LE3</td>\n",
       "      <td>T</td>\n",
       "      <td>1</td>\n",
       "      <td>1</td>\n",
       "      <td>at_home</td>\n",
       "      <td>other</td>\n",
       "      <td>...</td>\n",
       "      <td>4</td>\n",
       "      <td>3</td>\n",
       "      <td>2</td>\n",
       "      <td>2</td>\n",
       "      <td>3</td>\n",
       "      <td>3</td>\n",
       "      <td>10</td>\n",
       "      <td>7</td>\n",
       "      <td>8</td>\n",
       "      <td>10</td>\n",
       "    </tr>\n",
       "    <tr>\n",
       "      <th>3</th>\n",
       "      <td>GP</td>\n",
       "      <td>F</td>\n",
       "      <td>15</td>\n",
       "      <td>U</td>\n",
       "      <td>GT3</td>\n",
       "      <td>T</td>\n",
       "      <td>4</td>\n",
       "      <td>2</td>\n",
       "      <td>health</td>\n",
       "      <td>services</td>\n",
       "      <td>...</td>\n",
       "      <td>3</td>\n",
       "      <td>2</td>\n",
       "      <td>2</td>\n",
       "      <td>1</td>\n",
       "      <td>1</td>\n",
       "      <td>5</td>\n",
       "      <td>2</td>\n",
       "      <td>15</td>\n",
       "      <td>14</td>\n",
       "      <td>15</td>\n",
       "    </tr>\n",
       "    <tr>\n",
       "      <th>4</th>\n",
       "      <td>GP</td>\n",
       "      <td>F</td>\n",
       "      <td>16</td>\n",
       "      <td>U</td>\n",
       "      <td>GT3</td>\n",
       "      <td>T</td>\n",
       "      <td>3</td>\n",
       "      <td>3</td>\n",
       "      <td>other</td>\n",
       "      <td>other</td>\n",
       "      <td>...</td>\n",
       "      <td>4</td>\n",
       "      <td>3</td>\n",
       "      <td>2</td>\n",
       "      <td>1</td>\n",
       "      <td>2</td>\n",
       "      <td>5</td>\n",
       "      <td>4</td>\n",
       "      <td>6</td>\n",
       "      <td>10</td>\n",
       "      <td>10</td>\n",
       "    </tr>\n",
       "  </tbody>\n",
       "</table>\n",
       "<p>5 rows × 33 columns</p>\n",
       "</div>"
      ],
      "text/plain": [
       "  school sex  age address famsize Pstatus  Medu  Fedu     Mjob      Fjob  ...   \n",
       "0     GP   F   18       U     GT3       A     4     4  at_home   teacher  ...  \\\n",
       "1     GP   F   17       U     GT3       T     1     1  at_home     other  ...   \n",
       "2     GP   F   15       U     LE3       T     1     1  at_home     other  ...   \n",
       "3     GP   F   15       U     GT3       T     4     2   health  services  ...   \n",
       "4     GP   F   16       U     GT3       T     3     3    other     other  ...   \n",
       "\n",
       "  famrel freetime  goout  Dalc  Walc health absences  G1  G2  G3  \n",
       "0      4        3      4     1     1      3        6   5   6   6  \n",
       "1      5        3      3     1     1      3        4   5   5   6  \n",
       "2      4        3      2     2     3      3       10   7   8  10  \n",
       "3      3        2      2     1     1      5        2  15  14  15  \n",
       "4      4        3      2     1     2      5        4   6  10  10  \n",
       "\n",
       "[5 rows x 33 columns]"
      ]
     },
     "execution_count": 602,
     "metadata": {},
     "output_type": "execute_result"
    }
   ],
   "source": [
    "# Checking the first five rows of the df.\n",
    "df.head()"
   ]
  },
  {
   "cell_type": "code",
   "execution_count": 603,
   "id": "9fc4b852",
   "metadata": {},
   "outputs": [
    {
     "data": {
      "text/html": [
       "<div>\n",
       "<style scoped>\n",
       "    .dataframe tbody tr th:only-of-type {\n",
       "        vertical-align: middle;\n",
       "    }\n",
       "\n",
       "    .dataframe tbody tr th {\n",
       "        vertical-align: top;\n",
       "    }\n",
       "\n",
       "    .dataframe thead th {\n",
       "        text-align: right;\n",
       "    }\n",
       "</style>\n",
       "<table border=\"1\" class=\"dataframe\">\n",
       "  <thead>\n",
       "    <tr style=\"text-align: right;\">\n",
       "      <th></th>\n",
       "      <th>school</th>\n",
       "      <th>sex</th>\n",
       "      <th>age</th>\n",
       "      <th>address</th>\n",
       "      <th>famsize</th>\n",
       "      <th>Pstatus</th>\n",
       "      <th>Medu</th>\n",
       "      <th>Fedu</th>\n",
       "      <th>Mjob</th>\n",
       "      <th>Fjob</th>\n",
       "      <th>...</th>\n",
       "      <th>famrel</th>\n",
       "      <th>freetime</th>\n",
       "      <th>goout</th>\n",
       "      <th>Dalc</th>\n",
       "      <th>Walc</th>\n",
       "      <th>health</th>\n",
       "      <th>absences</th>\n",
       "      <th>G1</th>\n",
       "      <th>G2</th>\n",
       "      <th>G3</th>\n",
       "    </tr>\n",
       "  </thead>\n",
       "  <tbody>\n",
       "    <tr>\n",
       "      <th>1039</th>\n",
       "      <td>MS</td>\n",
       "      <td>F</td>\n",
       "      <td>19</td>\n",
       "      <td>R</td>\n",
       "      <td>GT3</td>\n",
       "      <td>T</td>\n",
       "      <td>2</td>\n",
       "      <td>3</td>\n",
       "      <td>services</td>\n",
       "      <td>other</td>\n",
       "      <td>...</td>\n",
       "      <td>5</td>\n",
       "      <td>4</td>\n",
       "      <td>2</td>\n",
       "      <td>1</td>\n",
       "      <td>2</td>\n",
       "      <td>5</td>\n",
       "      <td>4</td>\n",
       "      <td>10</td>\n",
       "      <td>11</td>\n",
       "      <td>10</td>\n",
       "    </tr>\n",
       "    <tr>\n",
       "      <th>1040</th>\n",
       "      <td>MS</td>\n",
       "      <td>F</td>\n",
       "      <td>18</td>\n",
       "      <td>U</td>\n",
       "      <td>LE3</td>\n",
       "      <td>T</td>\n",
       "      <td>3</td>\n",
       "      <td>1</td>\n",
       "      <td>teacher</td>\n",
       "      <td>services</td>\n",
       "      <td>...</td>\n",
       "      <td>4</td>\n",
       "      <td>3</td>\n",
       "      <td>4</td>\n",
       "      <td>1</td>\n",
       "      <td>1</td>\n",
       "      <td>1</td>\n",
       "      <td>4</td>\n",
       "      <td>15</td>\n",
       "      <td>15</td>\n",
       "      <td>16</td>\n",
       "    </tr>\n",
       "    <tr>\n",
       "      <th>1041</th>\n",
       "      <td>MS</td>\n",
       "      <td>F</td>\n",
       "      <td>18</td>\n",
       "      <td>U</td>\n",
       "      <td>GT3</td>\n",
       "      <td>T</td>\n",
       "      <td>1</td>\n",
       "      <td>1</td>\n",
       "      <td>other</td>\n",
       "      <td>other</td>\n",
       "      <td>...</td>\n",
       "      <td>1</td>\n",
       "      <td>1</td>\n",
       "      <td>1</td>\n",
       "      <td>1</td>\n",
       "      <td>1</td>\n",
       "      <td>5</td>\n",
       "      <td>6</td>\n",
       "      <td>11</td>\n",
       "      <td>12</td>\n",
       "      <td>9</td>\n",
       "    </tr>\n",
       "    <tr>\n",
       "      <th>1042</th>\n",
       "      <td>MS</td>\n",
       "      <td>M</td>\n",
       "      <td>17</td>\n",
       "      <td>U</td>\n",
       "      <td>LE3</td>\n",
       "      <td>T</td>\n",
       "      <td>3</td>\n",
       "      <td>1</td>\n",
       "      <td>services</td>\n",
       "      <td>services</td>\n",
       "      <td>...</td>\n",
       "      <td>2</td>\n",
       "      <td>4</td>\n",
       "      <td>5</td>\n",
       "      <td>3</td>\n",
       "      <td>4</td>\n",
       "      <td>2</td>\n",
       "      <td>6</td>\n",
       "      <td>10</td>\n",
       "      <td>10</td>\n",
       "      <td>10</td>\n",
       "    </tr>\n",
       "    <tr>\n",
       "      <th>1043</th>\n",
       "      <td>MS</td>\n",
       "      <td>M</td>\n",
       "      <td>18</td>\n",
       "      <td>R</td>\n",
       "      <td>LE3</td>\n",
       "      <td>T</td>\n",
       "      <td>3</td>\n",
       "      <td>2</td>\n",
       "      <td>services</td>\n",
       "      <td>other</td>\n",
       "      <td>...</td>\n",
       "      <td>4</td>\n",
       "      <td>4</td>\n",
       "      <td>1</td>\n",
       "      <td>3</td>\n",
       "      <td>4</td>\n",
       "      <td>5</td>\n",
       "      <td>4</td>\n",
       "      <td>10</td>\n",
       "      <td>11</td>\n",
       "      <td>11</td>\n",
       "    </tr>\n",
       "  </tbody>\n",
       "</table>\n",
       "<p>5 rows × 33 columns</p>\n",
       "</div>"
      ],
      "text/plain": [
       "     school sex  age address famsize Pstatus  Medu  Fedu      Mjob      Fjob   \n",
       "1039     MS   F   19       R     GT3       T     2     3  services     other  \\\n",
       "1040     MS   F   18       U     LE3       T     3     1   teacher  services   \n",
       "1041     MS   F   18       U     GT3       T     1     1     other     other   \n",
       "1042     MS   M   17       U     LE3       T     3     1  services  services   \n",
       "1043     MS   M   18       R     LE3       T     3     2  services     other   \n",
       "\n",
       "      ... famrel freetime  goout  Dalc  Walc health absences  G1  G2  G3  \n",
       "1039  ...      5        4      2     1     2      5        4  10  11  10  \n",
       "1040  ...      4        3      4     1     1      1        4  15  15  16  \n",
       "1041  ...      1        1      1     1     1      5        6  11  12   9  \n",
       "1042  ...      2        4      5     3     4      2        6  10  10  10  \n",
       "1043  ...      4        4      1     3     4      5        4  10  11  11  \n",
       "\n",
       "[5 rows x 33 columns]"
      ]
     },
     "execution_count": 603,
     "metadata": {},
     "output_type": "execute_result"
    }
   ],
   "source": [
    "# Checking the last five rows of the df.\n",
    "df.tail()"
   ]
  },
  {
   "cell_type": "code",
   "execution_count": 604,
   "id": "9c52fbaf",
   "metadata": {},
   "outputs": [
    {
     "data": {
      "text/html": [
       "<div>\n",
       "<style scoped>\n",
       "    .dataframe tbody tr th:only-of-type {\n",
       "        vertical-align: middle;\n",
       "    }\n",
       "\n",
       "    .dataframe tbody tr th {\n",
       "        vertical-align: top;\n",
       "    }\n",
       "\n",
       "    .dataframe thead th {\n",
       "        text-align: right;\n",
       "    }\n",
       "</style>\n",
       "<table border=\"1\" class=\"dataframe\">\n",
       "  <thead>\n",
       "    <tr style=\"text-align: right;\">\n",
       "      <th></th>\n",
       "      <th>age</th>\n",
       "      <th>Medu</th>\n",
       "      <th>Fedu</th>\n",
       "      <th>traveltime</th>\n",
       "      <th>studytime</th>\n",
       "      <th>failures</th>\n",
       "      <th>famrel</th>\n",
       "      <th>freetime</th>\n",
       "      <th>goout</th>\n",
       "      <th>Dalc</th>\n",
       "      <th>Walc</th>\n",
       "      <th>health</th>\n",
       "      <th>absences</th>\n",
       "      <th>G1</th>\n",
       "      <th>G2</th>\n",
       "      <th>G3</th>\n",
       "    </tr>\n",
       "  </thead>\n",
       "  <tbody>\n",
       "    <tr>\n",
       "      <th>count</th>\n",
       "      <td>1044.000000</td>\n",
       "      <td>1044.000000</td>\n",
       "      <td>1044.000000</td>\n",
       "      <td>1044.000000</td>\n",
       "      <td>1044.000000</td>\n",
       "      <td>1044.000000</td>\n",
       "      <td>1044.000000</td>\n",
       "      <td>1044.000000</td>\n",
       "      <td>1044.000000</td>\n",
       "      <td>1044.000000</td>\n",
       "      <td>1044.000000</td>\n",
       "      <td>1044.000000</td>\n",
       "      <td>1044.000000</td>\n",
       "      <td>1044.000000</td>\n",
       "      <td>1044.000000</td>\n",
       "      <td>1044.000000</td>\n",
       "    </tr>\n",
       "    <tr>\n",
       "      <th>mean</th>\n",
       "      <td>16.726054</td>\n",
       "      <td>2.603448</td>\n",
       "      <td>2.387931</td>\n",
       "      <td>1.522989</td>\n",
       "      <td>1.970307</td>\n",
       "      <td>0.264368</td>\n",
       "      <td>3.935824</td>\n",
       "      <td>3.201149</td>\n",
       "      <td>3.156130</td>\n",
       "      <td>1.494253</td>\n",
       "      <td>2.284483</td>\n",
       "      <td>3.543103</td>\n",
       "      <td>4.434866</td>\n",
       "      <td>11.213602</td>\n",
       "      <td>11.246169</td>\n",
       "      <td>11.341954</td>\n",
       "    </tr>\n",
       "    <tr>\n",
       "      <th>std</th>\n",
       "      <td>1.239975</td>\n",
       "      <td>1.124907</td>\n",
       "      <td>1.099938</td>\n",
       "      <td>0.731727</td>\n",
       "      <td>0.834353</td>\n",
       "      <td>0.656142</td>\n",
       "      <td>0.933401</td>\n",
       "      <td>1.031507</td>\n",
       "      <td>1.152575</td>\n",
       "      <td>0.911714</td>\n",
       "      <td>1.285105</td>\n",
       "      <td>1.424703</td>\n",
       "      <td>6.210017</td>\n",
       "      <td>2.983394</td>\n",
       "      <td>3.285071</td>\n",
       "      <td>3.864796</td>\n",
       "    </tr>\n",
       "    <tr>\n",
       "      <th>min</th>\n",
       "      <td>15.000000</td>\n",
       "      <td>0.000000</td>\n",
       "      <td>0.000000</td>\n",
       "      <td>1.000000</td>\n",
       "      <td>1.000000</td>\n",
       "      <td>0.000000</td>\n",
       "      <td>1.000000</td>\n",
       "      <td>1.000000</td>\n",
       "      <td>1.000000</td>\n",
       "      <td>1.000000</td>\n",
       "      <td>1.000000</td>\n",
       "      <td>1.000000</td>\n",
       "      <td>0.000000</td>\n",
       "      <td>0.000000</td>\n",
       "      <td>0.000000</td>\n",
       "      <td>0.000000</td>\n",
       "    </tr>\n",
       "    <tr>\n",
       "      <th>25%</th>\n",
       "      <td>16.000000</td>\n",
       "      <td>2.000000</td>\n",
       "      <td>1.000000</td>\n",
       "      <td>1.000000</td>\n",
       "      <td>1.000000</td>\n",
       "      <td>0.000000</td>\n",
       "      <td>4.000000</td>\n",
       "      <td>3.000000</td>\n",
       "      <td>2.000000</td>\n",
       "      <td>1.000000</td>\n",
       "      <td>1.000000</td>\n",
       "      <td>3.000000</td>\n",
       "      <td>0.000000</td>\n",
       "      <td>9.000000</td>\n",
       "      <td>9.000000</td>\n",
       "      <td>10.000000</td>\n",
       "    </tr>\n",
       "    <tr>\n",
       "      <th>50%</th>\n",
       "      <td>17.000000</td>\n",
       "      <td>3.000000</td>\n",
       "      <td>2.000000</td>\n",
       "      <td>1.000000</td>\n",
       "      <td>2.000000</td>\n",
       "      <td>0.000000</td>\n",
       "      <td>4.000000</td>\n",
       "      <td>3.000000</td>\n",
       "      <td>3.000000</td>\n",
       "      <td>1.000000</td>\n",
       "      <td>2.000000</td>\n",
       "      <td>4.000000</td>\n",
       "      <td>2.000000</td>\n",
       "      <td>11.000000</td>\n",
       "      <td>11.000000</td>\n",
       "      <td>11.000000</td>\n",
       "    </tr>\n",
       "    <tr>\n",
       "      <th>75%</th>\n",
       "      <td>18.000000</td>\n",
       "      <td>4.000000</td>\n",
       "      <td>3.000000</td>\n",
       "      <td>2.000000</td>\n",
       "      <td>2.000000</td>\n",
       "      <td>0.000000</td>\n",
       "      <td>5.000000</td>\n",
       "      <td>4.000000</td>\n",
       "      <td>4.000000</td>\n",
       "      <td>2.000000</td>\n",
       "      <td>3.000000</td>\n",
       "      <td>5.000000</td>\n",
       "      <td>6.000000</td>\n",
       "      <td>13.000000</td>\n",
       "      <td>13.000000</td>\n",
       "      <td>14.000000</td>\n",
       "    </tr>\n",
       "    <tr>\n",
       "      <th>max</th>\n",
       "      <td>22.000000</td>\n",
       "      <td>4.000000</td>\n",
       "      <td>4.000000</td>\n",
       "      <td>4.000000</td>\n",
       "      <td>4.000000</td>\n",
       "      <td>3.000000</td>\n",
       "      <td>5.000000</td>\n",
       "      <td>5.000000</td>\n",
       "      <td>5.000000</td>\n",
       "      <td>5.000000</td>\n",
       "      <td>5.000000</td>\n",
       "      <td>5.000000</td>\n",
       "      <td>75.000000</td>\n",
       "      <td>19.000000</td>\n",
       "      <td>19.000000</td>\n",
       "      <td>20.000000</td>\n",
       "    </tr>\n",
       "  </tbody>\n",
       "</table>\n",
       "</div>"
      ],
      "text/plain": [
       "               age         Medu         Fedu   traveltime    studytime   \n",
       "count  1044.000000  1044.000000  1044.000000  1044.000000  1044.000000  \\\n",
       "mean     16.726054     2.603448     2.387931     1.522989     1.970307   \n",
       "std       1.239975     1.124907     1.099938     0.731727     0.834353   \n",
       "min      15.000000     0.000000     0.000000     1.000000     1.000000   \n",
       "25%      16.000000     2.000000     1.000000     1.000000     1.000000   \n",
       "50%      17.000000     3.000000     2.000000     1.000000     2.000000   \n",
       "75%      18.000000     4.000000     3.000000     2.000000     2.000000   \n",
       "max      22.000000     4.000000     4.000000     4.000000     4.000000   \n",
       "\n",
       "          failures       famrel     freetime        goout         Dalc   \n",
       "count  1044.000000  1044.000000  1044.000000  1044.000000  1044.000000  \\\n",
       "mean      0.264368     3.935824     3.201149     3.156130     1.494253   \n",
       "std       0.656142     0.933401     1.031507     1.152575     0.911714   \n",
       "min       0.000000     1.000000     1.000000     1.000000     1.000000   \n",
       "25%       0.000000     4.000000     3.000000     2.000000     1.000000   \n",
       "50%       0.000000     4.000000     3.000000     3.000000     1.000000   \n",
       "75%       0.000000     5.000000     4.000000     4.000000     2.000000   \n",
       "max       3.000000     5.000000     5.000000     5.000000     5.000000   \n",
       "\n",
       "              Walc       health     absences           G1           G2   \n",
       "count  1044.000000  1044.000000  1044.000000  1044.000000  1044.000000  \\\n",
       "mean      2.284483     3.543103     4.434866    11.213602    11.246169   \n",
       "std       1.285105     1.424703     6.210017     2.983394     3.285071   \n",
       "min       1.000000     1.000000     0.000000     0.000000     0.000000   \n",
       "25%       1.000000     3.000000     0.000000     9.000000     9.000000   \n",
       "50%       2.000000     4.000000     2.000000    11.000000    11.000000   \n",
       "75%       3.000000     5.000000     6.000000    13.000000    13.000000   \n",
       "max       5.000000     5.000000    75.000000    19.000000    19.000000   \n",
       "\n",
       "                G3  \n",
       "count  1044.000000  \n",
       "mean     11.341954  \n",
       "std       3.864796  \n",
       "min       0.000000  \n",
       "25%      10.000000  \n",
       "50%      11.000000  \n",
       "75%      14.000000  \n",
       "max      20.000000  "
      ]
     },
     "execution_count": 604,
     "metadata": {},
     "output_type": "execute_result"
    }
   ],
   "source": [
    "# Checking the summary statistics of the df.\n",
    "df.describe()"
   ]
  },
  {
   "cell_type": "code",
   "execution_count": 605,
   "id": "f17f079e",
   "metadata": {},
   "outputs": [
    {
     "name": "stdout",
     "output_type": "stream",
     "text": [
      "<class 'pandas.core.frame.DataFrame'>\n",
      "RangeIndex: 1044 entries, 0 to 1043\n",
      "Data columns (total 33 columns):\n",
      " #   Column      Non-Null Count  Dtype \n",
      "---  ------      --------------  ----- \n",
      " 0   school      1044 non-null   object\n",
      " 1   sex         1044 non-null   object\n",
      " 2   age         1044 non-null   int64 \n",
      " 3   address     1044 non-null   object\n",
      " 4   famsize     1044 non-null   object\n",
      " 5   Pstatus     1044 non-null   object\n",
      " 6   Medu        1044 non-null   int64 \n",
      " 7   Fedu        1044 non-null   int64 \n",
      " 8   Mjob        1044 non-null   object\n",
      " 9   Fjob        1044 non-null   object\n",
      " 10  reason      1044 non-null   object\n",
      " 11  guardian    1044 non-null   object\n",
      " 12  traveltime  1044 non-null   int64 \n",
      " 13  studytime   1044 non-null   int64 \n",
      " 14  failures    1044 non-null   int64 \n",
      " 15  schoolsup   1044 non-null   object\n",
      " 16  famsup      1044 non-null   object\n",
      " 17  paid        1044 non-null   object\n",
      " 18  activities  1044 non-null   object\n",
      " 19  nursery     1044 non-null   object\n",
      " 20  higher      1044 non-null   object\n",
      " 21  internet    1044 non-null   object\n",
      " 22  romantic    1044 non-null   object\n",
      " 23  famrel      1044 non-null   int64 \n",
      " 24  freetime    1044 non-null   int64 \n",
      " 25  goout       1044 non-null   int64 \n",
      " 26  Dalc        1044 non-null   int64 \n",
      " 27  Walc        1044 non-null   int64 \n",
      " 28  health      1044 non-null   int64 \n",
      " 29  absences    1044 non-null   int64 \n",
      " 30  G1          1044 non-null   int64 \n",
      " 31  G2          1044 non-null   int64 \n",
      " 32  G3          1044 non-null   int64 \n",
      "dtypes: int64(16), object(17)\n",
      "memory usage: 269.3+ KB\n"
     ]
    }
   ],
   "source": [
    "# Checking the summary of the df.\n",
    "df.info()"
   ]
  },
  {
   "cell_type": "code",
   "execution_count": 606,
   "id": "30ab16bc",
   "metadata": {},
   "outputs": [
    {
     "data": {
      "text/html": [
       "<div>\n",
       "<style scoped>\n",
       "    .dataframe tbody tr th:only-of-type {\n",
       "        vertical-align: middle;\n",
       "    }\n",
       "\n",
       "    .dataframe tbody tr th {\n",
       "        vertical-align: top;\n",
       "    }\n",
       "\n",
       "    .dataframe thead th {\n",
       "        text-align: right;\n",
       "    }\n",
       "</style>\n",
       "<table border=\"1\" class=\"dataframe\">\n",
       "  <thead>\n",
       "    <tr style=\"text-align: right;\">\n",
       "      <th></th>\n",
       "      <th>school</th>\n",
       "      <th>sex</th>\n",
       "      <th>age</th>\n",
       "      <th>address</th>\n",
       "      <th>famsize</th>\n",
       "      <th>Pstatus</th>\n",
       "      <th>Medu</th>\n",
       "      <th>Fedu</th>\n",
       "      <th>Mjob</th>\n",
       "      <th>Fjob</th>\n",
       "      <th>...</th>\n",
       "      <th>famrel</th>\n",
       "      <th>freetime</th>\n",
       "      <th>goout</th>\n",
       "      <th>Dalc</th>\n",
       "      <th>Walc</th>\n",
       "      <th>health</th>\n",
       "      <th>absences</th>\n",
       "      <th>G1</th>\n",
       "      <th>G2</th>\n",
       "      <th>G3</th>\n",
       "    </tr>\n",
       "  </thead>\n",
       "  <tbody>\n",
       "    <tr>\n",
       "      <th>0</th>\n",
       "      <td>0</td>\n",
       "      <td>0</td>\n",
       "      <td>18</td>\n",
       "      <td>1</td>\n",
       "      <td>0</td>\n",
       "      <td>0</td>\n",
       "      <td>4</td>\n",
       "      <td>4</td>\n",
       "      <td>0</td>\n",
       "      <td>4</td>\n",
       "      <td>...</td>\n",
       "      <td>4</td>\n",
       "      <td>3</td>\n",
       "      <td>4</td>\n",
       "      <td>1</td>\n",
       "      <td>1</td>\n",
       "      <td>3</td>\n",
       "      <td>6</td>\n",
       "      <td>5</td>\n",
       "      <td>6</td>\n",
       "      <td>6</td>\n",
       "    </tr>\n",
       "    <tr>\n",
       "      <th>1</th>\n",
       "      <td>0</td>\n",
       "      <td>0</td>\n",
       "      <td>17</td>\n",
       "      <td>1</td>\n",
       "      <td>0</td>\n",
       "      <td>1</td>\n",
       "      <td>1</td>\n",
       "      <td>1</td>\n",
       "      <td>0</td>\n",
       "      <td>2</td>\n",
       "      <td>...</td>\n",
       "      <td>5</td>\n",
       "      <td>3</td>\n",
       "      <td>3</td>\n",
       "      <td>1</td>\n",
       "      <td>1</td>\n",
       "      <td>3</td>\n",
       "      <td>4</td>\n",
       "      <td>5</td>\n",
       "      <td>5</td>\n",
       "      <td>6</td>\n",
       "    </tr>\n",
       "    <tr>\n",
       "      <th>2</th>\n",
       "      <td>0</td>\n",
       "      <td>0</td>\n",
       "      <td>15</td>\n",
       "      <td>1</td>\n",
       "      <td>1</td>\n",
       "      <td>1</td>\n",
       "      <td>1</td>\n",
       "      <td>1</td>\n",
       "      <td>0</td>\n",
       "      <td>2</td>\n",
       "      <td>...</td>\n",
       "      <td>4</td>\n",
       "      <td>3</td>\n",
       "      <td>2</td>\n",
       "      <td>2</td>\n",
       "      <td>3</td>\n",
       "      <td>3</td>\n",
       "      <td>10</td>\n",
       "      <td>7</td>\n",
       "      <td>8</td>\n",
       "      <td>10</td>\n",
       "    </tr>\n",
       "    <tr>\n",
       "      <th>3</th>\n",
       "      <td>0</td>\n",
       "      <td>0</td>\n",
       "      <td>15</td>\n",
       "      <td>1</td>\n",
       "      <td>0</td>\n",
       "      <td>1</td>\n",
       "      <td>4</td>\n",
       "      <td>2</td>\n",
       "      <td>1</td>\n",
       "      <td>3</td>\n",
       "      <td>...</td>\n",
       "      <td>3</td>\n",
       "      <td>2</td>\n",
       "      <td>2</td>\n",
       "      <td>1</td>\n",
       "      <td>1</td>\n",
       "      <td>5</td>\n",
       "      <td>2</td>\n",
       "      <td>15</td>\n",
       "      <td>14</td>\n",
       "      <td>15</td>\n",
       "    </tr>\n",
       "    <tr>\n",
       "      <th>4</th>\n",
       "      <td>0</td>\n",
       "      <td>0</td>\n",
       "      <td>16</td>\n",
       "      <td>1</td>\n",
       "      <td>0</td>\n",
       "      <td>1</td>\n",
       "      <td>3</td>\n",
       "      <td>3</td>\n",
       "      <td>2</td>\n",
       "      <td>2</td>\n",
       "      <td>...</td>\n",
       "      <td>4</td>\n",
       "      <td>3</td>\n",
       "      <td>2</td>\n",
       "      <td>1</td>\n",
       "      <td>2</td>\n",
       "      <td>5</td>\n",
       "      <td>4</td>\n",
       "      <td>6</td>\n",
       "      <td>10</td>\n",
       "      <td>10</td>\n",
       "    </tr>\n",
       "  </tbody>\n",
       "</table>\n",
       "<p>5 rows × 33 columns</p>\n",
       "</div>"
      ],
      "text/plain": [
       "   school  sex  age  address  famsize  Pstatus  Medu  Fedu  Mjob  Fjob  ...   \n",
       "0       0    0   18        1        0        0     4     4     0     4  ...  \\\n",
       "1       0    0   17        1        0        1     1     1     0     2  ...   \n",
       "2       0    0   15        1        1        1     1     1     0     2  ...   \n",
       "3       0    0   15        1        0        1     4     2     1     3  ...   \n",
       "4       0    0   16        1        0        1     3     3     2     2  ...   \n",
       "\n",
       "   famrel  freetime  goout  Dalc  Walc  health  absences  G1  G2  G3  \n",
       "0       4         3      4     1     1       3         6   5   6   6  \n",
       "1       5         3      3     1     1       3         4   5   5   6  \n",
       "2       4         3      2     2     3       3        10   7   8  10  \n",
       "3       3         2      2     1     1       5         2  15  14  15  \n",
       "4       4         3      2     1     2       5         4   6  10  10  \n",
       "\n",
       "[5 rows x 33 columns]"
      ]
     },
     "execution_count": 606,
     "metadata": {},
     "output_type": "execute_result"
    }
   ],
   "source": [
    "# Initializing the LabelEncoder\n",
    "label_encoder = LabelEncoder()\n",
    "\n",
    "# Encoding the categorical column and storing in the same column\n",
    "df['school'] = label_encoder.fit_transform(df['school'])\n",
    "df['sex'] = label_encoder.fit_transform(df['sex'])\n",
    "df['address'] = label_encoder.fit_transform(df['address'])\n",
    "df['famsize'] = label_encoder.fit_transform(df['famsize'])\n",
    "df['Pstatus'] = label_encoder.fit_transform(df['Pstatus'])\n",
    "df['Medu'] = label_encoder.fit_transform(df['Medu'])\n",
    "df['Fedu'] = label_encoder.fit_transform(df['Fedu'])\n",
    "df['Mjob'] = label_encoder.fit_transform(df['Mjob'])\n",
    "df['Fjob'] = label_encoder.fit_transform(df['Fjob'])\n",
    "df['reason'] = label_encoder.fit_transform(df['reason'])\n",
    "df['guardian'] = label_encoder.fit_transform(df['guardian'])\n",
    "df['schoolsup'] = label_encoder.fit_transform(df['schoolsup'])\n",
    "df['famsup'] = label_encoder.fit_transform(df['famsup'])\n",
    "df['paid'] = label_encoder.fit_transform(df['paid'])\n",
    "df['activities'] = label_encoder.fit_transform(df['activities'])\n",
    "df['nursery'] = label_encoder.fit_transform(df['nursery'])\n",
    "df['higher'] = label_encoder.fit_transform(df['higher'])\n",
    "df['internet'] = label_encoder.fit_transform(df['internet'])\n",
    "df['romantic'] = label_encoder.fit_transform(df['romantic'])\n",
    "df.head()"
   ]
  },
  {
   "cell_type": "markdown",
   "id": "0f6d3944",
   "metadata": {},
   "source": [
    "**Calculating Range: Range is the difference of maximum and minimum value.**"
   ]
  },
  {
   "cell_type": "code",
   "execution_count": 607,
   "id": "d2b22d28",
   "metadata": {},
   "outputs": [],
   "source": [
    "def calculaterange(columndf):\n",
    "    \"\"\"This function calculates the Range for the given dataframe.\n",
    "\n",
    "    Args:\n",
    "        columndf (dataframe): The dataframe of an individual column.\n",
    "\n",
    "    Returns:\n",
    "        int: Range value.\n",
    "    \"\"\"\n",
    "    maxvalue = np.max(columndf)\n",
    "    minvalue = np.min(columndf)\n",
    "    rangevalue = maxvalue - minvalue\n",
    "    return rangevalue"
   ]
  },
  {
   "cell_type": "code",
   "execution_count": 608,
   "id": "e5624fb6",
   "metadata": {},
   "outputs": [
    {
     "name": "stdout",
     "output_type": "stream",
     "text": [
      "The range value of absences column is 75 days.\n"
     ]
    }
   ],
   "source": [
    "print(f\"The range value of absences column is {calculaterange(df['absences'])} days.\")"
   ]
  },
  {
   "cell_type": "code",
   "execution_count": 609,
   "id": "5290c754",
   "metadata": {},
   "outputs": [
    {
     "name": "stdout",
     "output_type": "stream",
     "text": [
      "The range value of G3 column is 20.\n"
     ]
    }
   ],
   "source": [
    "print(f\"The range value of G3 column is {calculaterange(df['G3'])}.\")"
   ]
  },
  {
   "cell_type": "markdown",
   "id": "a2e62a02",
   "metadata": {},
   "source": [
    "**Calculating InterQuartile Range: InterQuartile Range is the difference of Q3 and Q1.**"
   ]
  },
  {
   "cell_type": "code",
   "execution_count": 610,
   "id": "7104bbab",
   "metadata": {},
   "outputs": [],
   "source": [
    "def calculateiqr(columndf):\n",
    "    \"\"\"This function calculates the Inter Quartile Range for the given data in dataframe.\n",
    "\n",
    "    Args:\n",
    "        columndf (dataframe): The dataframe of an individual column.\n",
    "\n",
    "    Returns:\n",
    "        int: Interquartile range value.\n",
    "    \"\"\"\n",
    "    thirdquartile = np.quantile(columndf, 0.75)\n",
    "    firstquartile = np.quantile(columndf, 0.25)\n",
    "    iqr = thirdquartile - firstquartile\n",
    "    return iqr\n",
    "    "
   ]
  },
  {
   "cell_type": "code",
   "execution_count": 611,
   "id": "509c9899",
   "metadata": {},
   "outputs": [
    {
     "name": "stdout",
     "output_type": "stream",
     "text": [
      "The Inter Quartile Range for absences is 6.0 days.\n"
     ]
    }
   ],
   "source": [
    "print(f\"The Inter Quartile Range for absences is {calculateiqr(df['absences'])} days.\")"
   ]
  },
  {
   "cell_type": "code",
   "execution_count": 612,
   "id": "eb048be7",
   "metadata": {},
   "outputs": [
    {
     "name": "stdout",
     "output_type": "stream",
     "text": [
      "The Inter Quartile Range for G3 is 4.0.\n"
     ]
    }
   ],
   "source": [
    "print(f\"The Inter Quartile Range for G3 is {calculateiqr(df['G3'])}.\")"
   ]
  },
  {
   "cell_type": "markdown",
   "id": "5a2d9f43",
   "metadata": {},
   "source": [
    "**Calculating Median: Median is the mid value of the range of given sorted data. If the given number of total data are even, the average of two middle numbers are takne as median value.**"
   ]
  },
  {
   "cell_type": "code",
   "execution_count": 613,
   "id": "9bf1bda6",
   "metadata": {},
   "outputs": [],
   "source": [
    "def calculatemedian(columndf):\n",
    "    \"\"\"This function calculates the median for the given data in dataframe.\n",
    "\n",
    "    Args:\n",
    "        columndf (dataframe): The dataframe of an individual column.\n",
    "\n",
    "    Returns:\n",
    "        int: Median value.\n",
    "    \"\"\"\n",
    "    sortedvalue = np.sort(columndf)\n",
    "    valuecount = len(sortedvalue)\n",
    "    midindex = int(valuecount/2)\n",
    "    if(np.mod(valuecount, 2) == 0):\n",
    "        midvalue1 = sortedvalue[midindex]\n",
    "        midvalue2 = sortedvalue[midindex - 1]\n",
    "        medianvalue = (midvalue1 + midvalue2)/2\n",
    "    else:\n",
    "        medianvalue = sortedvalue[midindex]\n",
    "    return medianvalue"
   ]
  },
  {
   "cell_type": "code",
   "execution_count": 614,
   "id": "3bcb0d0b",
   "metadata": {},
   "outputs": [
    {
     "name": "stdout",
     "output_type": "stream",
     "text": [
      "The median value for the absences is 2.0 days.\n"
     ]
    }
   ],
   "source": [
    "print(f\"The median value for the absences is {calculatemedian(df['absences'])} days.\")"
   ]
  },
  {
   "cell_type": "code",
   "execution_count": 615,
   "id": "3e3a25c2",
   "metadata": {},
   "outputs": [
    {
     "name": "stdout",
     "output_type": "stream",
     "text": [
      "The median value for the G3 is 11.0.\n"
     ]
    }
   ],
   "source": [
    "print(f\"The median value for the G3 is {calculatemedian(df['G3'])}.\")"
   ]
  },
  {
   "cell_type": "markdown",
   "id": "04038bb9",
   "metadata": {},
   "source": [
    "**Calculating Mean: Mean is the average value of the given ranage of data.**"
   ]
  },
  {
   "cell_type": "code",
   "execution_count": 616,
   "id": "ebd2d7ce",
   "metadata": {},
   "outputs": [],
   "source": [
    "def calculatemean(columndf):\n",
    "    \"\"\"This function calculates the mean for the given data in dataframe.\n",
    "\n",
    "    Args:\n",
    "        columndf (dataframe): The dataframe of an individual column.\n",
    "\n",
    "    Returns:\n",
    "        int: Mean value.\n",
    "    \"\"\"\n",
    "    valuecount = len(columndf)\n",
    "    sumofvalues = np.sum(columndf)\n",
    "    meanvalue = sumofvalues/valuecount\n",
    "    return meanvalue"
   ]
  },
  {
   "cell_type": "code",
   "execution_count": 617,
   "id": "04f5d359",
   "metadata": {},
   "outputs": [
    {
     "name": "stdout",
     "output_type": "stream",
     "text": [
      "The mean value for the absences is 4.434865900383142 days.\n"
     ]
    }
   ],
   "source": [
    "print(f\"The mean value for the absences is {calculatemean(df['absences'])} days.\")"
   ]
  },
  {
   "cell_type": "code",
   "execution_count": 618,
   "id": "01d35442",
   "metadata": {},
   "outputs": [
    {
     "name": "stdout",
     "output_type": "stream",
     "text": [
      "The mean value for the G3 is 11.341954022988507.\n"
     ]
    }
   ],
   "source": [
    "print(f\"The mean value for the G3 is {calculatemean(df['G3'])}.\")"
   ]
  },
  {
   "cell_type": "markdown",
   "id": "6db1ded1",
   "metadata": {},
   "source": [
    "**Calculating Mode: Mode is the most frequent value in the given ranage of data. If the given range of data contains more than one most frequent values than all of the most frequent values are considered as mode.**"
   ]
  },
  {
   "cell_type": "code",
   "execution_count": 619,
   "id": "59cbf27e",
   "metadata": {},
   "outputs": [],
   "source": [
    "def calculatemode(columndf):\n",
    "    \"\"\"This function calculates the mode for the given data in dataframe.\n",
    "\n",
    "    Args:\n",
    "        columndf (dataframe): The dataframe of an individual column.\n",
    "\n",
    "    Returns:\n",
    "        list: Mode value.\n",
    "    \"\"\"\n",
    "    valuefreq = {}\n",
    "    for data in columndf:\n",
    "        if data in valuefreq.keys():\n",
    "            valuefreq[data] += 1\n",
    "        else:\n",
    "            valuefreq[data] = 1\n",
    "    maxfrequency = max(valuefreq.values())\n",
    "    \n",
    "    modes = []\n",
    "    for key, value in valuefreq.items():\n",
    "        if value == maxfrequency:\n",
    "            modes.append(key)\n",
    "    return modes"
   ]
  },
  {
   "cell_type": "code",
   "execution_count": 620,
   "id": "65985c2a",
   "metadata": {},
   "outputs": [
    {
     "name": "stdout",
     "output_type": "stream",
     "text": [
      "The mode value for the absences is [0] days.\n"
     ]
    }
   ],
   "source": [
    "print(f\"The mode value for the absences is {calculatemode(df['absences'])} days.\")"
   ]
  },
  {
   "cell_type": "code",
   "execution_count": 621,
   "id": "e1fed0e1",
   "metadata": {},
   "outputs": [
    {
     "name": "stdout",
     "output_type": "stream",
     "text": [
      "The mode value for the G3 is [10].\n"
     ]
    }
   ],
   "source": [
    "print(f\"The mode value for the G3 is {calculatemode(df['G3'])}.\")"
   ]
  },
  {
   "cell_type": "markdown",
   "id": "e8c7cf6b",
   "metadata": {},
   "source": [
    "**Calculating 1st and 3rd quartiles: The 1st and 3rd quartile are the 25th and 75th percentile of the data respectively.**"
   ]
  },
  {
   "cell_type": "code",
   "execution_count": 622,
   "id": "052607af",
   "metadata": {},
   "outputs": [],
   "source": [
    "def findnthquartile(columndf, quartile):\n",
    "    \"\"\"This function calculates the nth quartile for the given data in dataframe.\n",
    "\n",
    "    Args:\n",
    "        columndf (dataframe): The dataframe of an individual column.\n",
    "        quartile (int): The quartile to be calculated.\n",
    "\n",
    "    Returns:\n",
    "        int: nth quartile value.\n",
    "    \"\"\"\n",
    "    \n",
    "    if(quartile ==1 ):\n",
    "        quartile = 0.25\n",
    "    elif(quartile == 2):\n",
    "        quartile = 0.5\n",
    "    elif(quartile == 3):\n",
    "        quartile = 0.75\n",
    "    else:\n",
    "        quartile = 1\n",
    "    \n",
    "    lengthofdata = len(columndf)\n",
    "    \n",
    "    sorted_data = np.sort(columndf)\n",
    "    \n",
    "    nthindex = int((lengthofdata * quartile)- 1)\n",
    "    \n",
    "    nthquartile = sorted_data[nthindex]\n",
    "    \n",
    "    return nthquartile    "
   ]
  },
  {
   "cell_type": "code",
   "execution_count": 623,
   "id": "f3eb4bfe",
   "metadata": {},
   "outputs": [
    {
     "name": "stdout",
     "output_type": "stream",
     "text": [
      "The first and third quartile of the G3 are 10 and 14 respectively.\n"
     ]
    }
   ],
   "source": [
    "G3 = df['G3']\n",
    "firstquartile = findnthquartile(G3, 1)\n",
    "thirdquartile = findnthquartile(G3, 3)\n",
    "\n",
    "print(f\"The first and third quartile of the G3 are {firstquartile} and {thirdquartile} respectively.\")"
   ]
  },
  {
   "cell_type": "code",
   "execution_count": 624,
   "id": "1cb1e665",
   "metadata": {},
   "outputs": [
    {
     "name": "stdout",
     "output_type": "stream",
     "text": [
      "The first and third quartile of the absences are 0 and 6 days respectively.\n"
     ]
    }
   ],
   "source": [
    "absences = df['absences']\n",
    "firstquartile = findnthquartile(absences, 1)\n",
    "thirdquartile = findnthquartile(absences, 3)\n",
    "\n",
    "print(f\"The first and third quartile of the absences are {firstquartile} and {thirdquartile} days respectively.\")"
   ]
  },
  {
   "cell_type": "markdown",
   "id": "caa0f794",
   "metadata": {},
   "source": [
    "**Calculating sample variance: average squared deviation of data points form the mean.**"
   ]
  },
  {
   "cell_type": "code",
   "execution_count": 625,
   "id": "874d5f60",
   "metadata": {},
   "outputs": [],
   "source": [
    "def calculatevariance(columndf):\n",
    "    \"\"\"This function calculates the variance for the given data in dataframe.\n",
    "\n",
    "    Args:\n",
    "        columndf (dataframe): The dataframe of an individual column.\n",
    "\n",
    "    Returns:\n",
    "        int: Variance value.\n",
    "    \"\"\"\n",
    "    mean = calculatemean(columndf)\n",
    "    datacount = len(columndf)\n",
    "    sumofthevalues = 0\n",
    "    for data in columndf:\n",
    "        sumofthevalues += (data - mean) ** 2\n",
    "    variancevalue = sumofthevalues / datacount\n",
    "    return variancevalue"
   ]
  },
  {
   "cell_type": "code",
   "execution_count": 626,
   "id": "e9e71078",
   "metadata": {},
   "outputs": [
    {
     "name": "stdout",
     "output_type": "stream",
     "text": [
      "The variance of the G3 is 14.922339476813354.\n"
     ]
    }
   ],
   "source": [
    "varainceG3 = calculatevariance(df['G3'])\n",
    "print(f\"The variance of the G3 is {varainceG3}.\")"
   ]
  },
  {
   "cell_type": "code",
   "execution_count": 627,
   "id": "4e2dbcd3",
   "metadata": {},
   "outputs": [
    {
     "name": "stdout",
     "output_type": "stream",
     "text": [
      "The variance of the absences is 38.52736674446901 days.\n"
     ]
    }
   ],
   "source": [
    "varainceabsences = calculatevariance(df['absences'])\n",
    "print(f\"The variance of the absences is {varainceabsences} days.\")"
   ]
  },
  {
   "cell_type": "markdown",
   "id": "bb768bc2",
   "metadata": {},
   "source": [
    "**Calculating Standard deviation: Measure of the amount of variation or dispersion of a set of values. It is also known as the square roof of the variance.**"
   ]
  },
  {
   "cell_type": "code",
   "execution_count": 628,
   "id": "ac3162b0",
   "metadata": {},
   "outputs": [],
   "source": [
    "def calculatestandarddeviation(columndf):\n",
    "    \"\"\"This function calculates the standard deviation for the given data in dataframe.\n",
    "\n",
    "    Args:\n",
    "        columndf (dataframe): The dataframe of an individual column.\n",
    "\n",
    "    Returns:\n",
    "        int: Standard deviation value.\n",
    "    \"\"\"\n",
    "    variance = calculatevariance(columndf)\n",
    "    standarddeviation = np.sqrt(variance)\n",
    "    return standarddeviation"
   ]
  },
  {
   "cell_type": "code",
   "execution_count": 629,
   "id": "6b98d8d9",
   "metadata": {},
   "outputs": [
    {
     "name": "stdout",
     "output_type": "stream",
     "text": [
      "The std of the G3 is 3.86294440508964.\n"
     ]
    }
   ],
   "source": [
    "stdG3 = calculatestandarddeviation(df['G3'])\n",
    "print(f\"The std of the G3 is {stdG3}.\")\n"
   ]
  },
  {
   "cell_type": "code",
   "execution_count": 630,
   "id": "6ef5795d",
   "metadata": {},
   "outputs": [
    {
     "name": "stdout",
     "output_type": "stream",
     "text": [
      "The std of the absences is 6.207041706358111 days.\n"
     ]
    }
   ],
   "source": [
    "stdabsences = calculatestandarddeviation(df['absences'])\n",
    "print(f\"The std of the absences is {stdabsences} days.\")"
   ]
  },
  {
   "cell_type": "markdown",
   "id": "40890a12",
   "metadata": {},
   "source": [
    "**Find Outliers: Outliers are those data points or observations which significantly deviate from the majority of the data in a dataset.**"
   ]
  },
  {
   "cell_type": "code",
   "execution_count": 631,
   "id": "9c809b39",
   "metadata": {},
   "outputs": [],
   "source": [
    "def calculateoutliers(columndf):\n",
    "    \"\"\"Calculating the outliers in teh given data.\n",
    "\n",
    "    Args:\n",
    "        columndf (dataframe): The dataframe of an individual column.\n",
    "\n",
    "    Returns:\n",
    "        array: Outliers value.\n",
    "    \"\"\"\n",
    "    \n",
    "    # Calculate quartiles (Q1 and Q3)\n",
    "    q1 = findnthquartile(columndf, 1)\n",
    "    q3 = findnthquartile(columndf, 3)\n",
    "\n",
    "    # Calculate IQR (Interquartile Range)\n",
    "    iqr = q3 - q1\n",
    "\n",
    "    # Define the outlier thresholds\n",
    "    lower_threshold = q1 - 1.5 * iqr\n",
    "    upper_threshold = q3 + 1.5 * iqr\n",
    "\n",
    "    # Find outliers\n",
    "    outliers = [] \n",
    "    \n",
    "    for data in columndf:\n",
    "        if data < lower_threshold or data > upper_threshold:\n",
    "            outliers.append(data)\n",
    "    \n",
    "    return outliers\n"
   ]
  },
  {
   "cell_type": "code",
   "execution_count": 632,
   "id": "3d85e301",
   "metadata": {},
   "outputs": [
    {
     "name": "stdout",
     "output_type": "stream",
     "text": [
      "The outliers in G3 are : [0, 0, 0, 0, 0, 0, 0, 0, 0, 0, 0, 0, 0, 0, 0, 0, 0, 0, 0, 0, 0, 0, 0, 0, 0, 0, 0, 0, 0, 0, 0, 0, 0, 0, 0, 0, 0, 0, 0, 1, 0, 0, 0, 0, 0, 0, 0, 0, 0, 0, 0, 0, 0, 0]. \n",
      " There are 54 outliers in G3.\n",
      "The outliers in absences are : [16, 16, 25, 54, 18, 26, 20, 18, 16, 16, 56, 24, 18, 28, 22, 16, 18, 20, 16, 21, 75, 22, 30, 19, 20, 38, 18, 20, 22, 40, 23, 16, 17, 16, 16, 24, 22, 16, 32, 16, 16, 30, 21, 16, 18, 16, 26, 16, 16, 22, 18, 18, 16, 21]. \n",
      " There are 54 outliers in absences.\n"
     ]
    }
   ],
   "source": [
    "G3_data = df[\"G3\"]\n",
    "absences_data = df[\"absences\"]\n",
    "\n",
    "G3_outliers = calculateoutliers(G3_data)\n",
    "absences_outliers = calculateoutliers(absences_data)\n",
    "\n",
    "print(f\"The outliers in G3 are : {G3_outliers}. \\n There are {len(G3_outliers)} outliers in G3.\")\n",
    "print(f\"The outliers in absences are : {absences_outliers}. \\n There are {len(absences_outliers)} outliers in absences.\")"
   ]
  },
  {
   "cell_type": "markdown",
   "id": "54848b99",
   "metadata": {},
   "source": [
    "**Boxplot**"
   ]
  },
  {
   "cell_type": "code",
   "execution_count": 633,
   "id": "ff19d2f0",
   "metadata": {},
   "outputs": [
    {
     "data": {
      "image/png": "[encoded data removed]",
      "text/plain": [
       "<Figure size 640x480 with 1 Axes>"
      ]
     },
     "metadata": {},
     "output_type": "display_data"
    }
   ],
   "source": [
    "# setting the theme for seaborn\n",
    "sns.set_theme()\n",
    "\n",
    "# creating the boxplot for absences.\n",
    "sns.boxplot(df[\"absences\"])\n",
    "\n",
    "plt.title(\"Boxplot for Absences(days)\")\n",
    "plt.ylabel(\"Absences (days)\")\n",
    "plt.show()"
   ]
  },
  {
   "cell_type": "code",
   "execution_count": 634,
   "id": "edf282f9",
   "metadata": {},
   "outputs": [
    {
     "data": {
      "image/png": "[encoded data removed]",
      "text/plain": [
       "<Figure size 640x480 with 1 Axes>"
      ]
     },
     "metadata": {},
     "output_type": "display_data"
    }
   ],
   "source": [
    "# creating the boxplot for G3.\n",
    "sns.boxplot(df[\"G3\"])\n",
    "\n",
    "plt.title(\"Boxplot for G3(Final Grade)\")\n",
    "plt.ylabel(\"G3 (Final Grade)\")\n",
    "plt.show()"
   ]
  },
  {
   "cell_type": "markdown",
   "id": "d86e340e",
   "metadata": {},
   "source": [
    "**Heatmap**"
   ]
  },
  {
   "cell_type": "code",
   "execution_count": 635,
   "id": "b0c77ada",
   "metadata": {},
   "outputs": [
    {
     "data": {
      "image/png": "[encoded data removed]",
      "text/plain": [
       "<Figure size 640x480 with 2 Axes>"
      ]
     },
     "metadata": {},
     "output_type": "display_data"
    }
   ],
   "source": [
    "# creating the boxplot for absences.\n",
    "sns.heatmap(df[[\"absences\", \"G3\"]].corr(), cmap='coolwarm', annot=True)\n",
    "\n",
    "plt.title(\"Correlation Heatmap for Absences(days) & G3(Final grade)\")\n",
    "plt.show()"
   ]
  },
  {
   "cell_type": "markdown",
   "id": "a5d02f5e",
   "metadata": {},
   "source": [
    "**LinePlot**"
   ]
  },
  {
   "cell_type": "code",
   "execution_count": 636,
   "id": "ad0424bd",
   "metadata": {},
   "outputs": [
    {
     "data": {
      "image/png": "[encoded data removed]",
      "text/plain": [
       "<Figure size 640x480 with 1 Axes>"
      ]
     },
     "metadata": {},
     "output_type": "display_data"
    }
   ],
   "source": [
    "# creating the lineplot for absences, G3.\n",
    "\n",
    "sns.lineplot(\n",
    "    data=df,\n",
    "    x=\"absences\", y=\"G3\"\n",
    ")\n",
    "\n",
    "plt.title(\"Lineplot for Absences(days) & G3(Final Grade)\")\n",
    "plt.xlabel(\"Absences (days)\")\n",
    "plt.ylabel(\"G3 (Final Grade)\")\n",
    "\n",
    "plt.show()"
   ]
  },
  {
   "cell_type": "markdown",
   "id": "411e01ce",
   "metadata": {},
   "source": [
    "**lmplot**"
   ]
  },
  {
   "cell_type": "code",
   "execution_count": 637,
   "id": "a2602a21",
   "metadata": {},
   "outputs": [
    {
     "data": {
      "image/png": "[encoded data removed]",
      "text/plain": [
       "<Figure size 500x500 with 1 Axes>"
      ]
     },
     "metadata": {},
     "output_type": "display_data"
    }
   ],
   "source": [
    "# creating the lmplot.\n",
    "lmplot = sns.lmplot(data=df, x=\"absences\", y=\"G3\")\n",
    "\n",
    "# setting the custom labels for the x and y axis.\n",
    "lmplot.set_axis_labels(\"Absences (days)\", \"G3 (Final Grade)\")\n",
    "\n",
    "\n",
    "plt.title(\"Lmplot for Absences(days) & G3(Final Grade)\")\n",
    "plt.show()"
   ]
  },
  {
   "cell_type": "code",
   "execution_count": 638,
   "id": "d6e9ace6",
   "metadata": {},
   "outputs": [],
   "source": [
    "def createstatisticalplot(data, columndetails):\n",
    "    # Calculating the statistics for the given data\n",
    "    mean_value = np.mean(data)\n",
    "    median_value = np.median(data)\n",
    "    mode_value = np.argmax(np.bincount(data))\n",
    "    q1, q3 = np.percentile(data, [25, 75])\n",
    "    standarddev = np.std(data)\n",
    "\n",
    "    # Creating the plot\n",
    "    plt.figure(figsize=(10, 7))\n",
    "    plt.axhline(0, color='black', linewidth=3)  # Horizontal line to mark the center\n",
    "\n",
    "    # Plotting the markers for each statistics\n",
    "    plt.plot(mean_value, 0, 'b|', markersize=20, markeredgewidth = 5, label='Mean')\n",
    "    plt.plot(median_value, 0, 'g|', markersize=20, markeredgewidth = 5, label='Median')\n",
    "    plt.plot(mode_value, 0, 'r|', markersize=20, markeredgewidth = 7, label='Mode')\n",
    "    plt.plot(q1, 0, 'y|', markersize=20, markeredgewidth = 5, label='Q1')\n",
    "    plt.plot(q3, 0, 'y|', markersize=20, markeredgewidth = 5, label='Q3')\n",
    "    plt.plot(standarddev, 0, 'c|', markersize=20, markeredgewidth = 5, label='Standard Deviation')\n",
    "\n",
    "    # Plotting the IQR line\n",
    "    plt.plot([q1, q3], [0, 0], 'orange', linewidth=3, label='IQR')\n",
    "\n",
    "    plt.text(mean_value, 0.007, f'{mean_value:.2f}', ha='center', va='bottom', color='b', fontsize=10, fontweight='bold')\n",
    "    plt.text(median_value, -0.007, f'{median_value:.2f}', ha='center', va='bottom', color='g', fontsize=10, fontweight='bold')\n",
    "    plt.text(mode_value, 0.01, f'{mode_value:.2f}', ha='center', va='bottom', color='r', fontsize=10, fontweight='bold')\n",
    "    plt.text(q1, -0.01, f'{q1:.2f}', ha='center', va='bottom', color='y', fontsize=10, fontweight='bold')\n",
    "    plt.text(q3, 0.01, f'{q3:.2f}', ha='center', va='bottom', color='y', fontsize=10, fontweight='bold')\n",
    "    plt.text(standarddev, -0.01, f'{standarddev:.2f}', ha='center', va='bottom', color='c', fontsize=10, fontweight='bold')\n",
    "\n",
    "    # Setting the plot limits\n",
    "    plt.xlim(0, max(data) + 5)\n",
    "\n",
    "    # Hiding the y-axis\n",
    "    plt.yticks([])\n",
    "\n",
    "    # Adding the legend\n",
    "    plt.legend()\n",
    "    \n",
    "    # Adding the title\n",
    "    plt.title(f\"Statistical plot for {columndetails}\")\n",
    "    plt.xlabel(f\"{columndetails}\")\n",
    "\n",
    "    # Showing the plot\n",
    "    plt.show()\n"
   ]
  },
  {
   "cell_type": "code",
   "execution_count": 639,
   "id": "306e4999",
   "metadata": {},
   "outputs": [
    {
     "data": {
      "image/png": "[encoded data removed]",
      "text/plain": [
       "<Figure size 1000x700 with 1 Axes>"
      ]
     },
     "metadata": {},
     "output_type": "display_data"
    }
   ],
   "source": [
    "createstatisticalplot(df['G3'], \"G3(Final Grade)\")"
   ]
  },
  {
   "cell_type": "code",
   "execution_count": 640,
   "id": "6deb2230",
   "metadata": {},
   "outputs": [
    {
     "data": {
      "image/png": "[encoded data removed]",
      "text/plain": [
       "<Figure size 1000x700 with 1 Axes>"
      ]
     },
     "metadata": {},
     "output_type": "display_data"
    }
   ],
   "source": [
    "createstatisticalplot(df['absences'], \"Absences(days)\")"
   ]
  },
  {
   "cell_type": "code",
   "execution_count": null,
   "id": "531f3faa",
   "metadata": {},
   "outputs": [],
   "source": []
  }
 ],
 "metadata": {
  "kernelspec": {
   "display_name": "Python 3 (ipykernel)",
   "language": "python",
   "name": "python3"
  },
  "language_info": {
   "codemirror_mode": {
    "name": "ipython",
    "version": 3
   },
   "file_extension": ".py",
   "mimetype": "text/x-python",
   "name": "python",
   "nbconvert_exporter": "python",
   "pygments_lexer": "ipython3",
   "version": "3.10.11"
  }
 },
 "nbformat": 4,
 "nbformat_minor": 5
}
